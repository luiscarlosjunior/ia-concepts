{
  "nbformat": 4,
  "nbformat_minor": 0,
  "metadata": {
    "colab": {
      "name": "Buscas Informadas.ipynb",
      "provenance": [],
      "collapsed_sections": []
    },
    "kernelspec": {
      "name": "python3",
      "display_name": "Python 3"
    },
    "language_info": {
      "name": "python"
    }
  },
  "cells": [
    {
      "cell_type": "markdown",
      "source": [
        "# Algoritmo de busca ambiciosa/Gulosa/Estimativa"
      ],
      "metadata": {
        "id": "Z-KvzImoBeje"
      }
    },
    {
      "cell_type": "code",
      "source": [
        "from collections import defaultdict"
      ],
      "metadata": {
        "id": "j970OPsOCV-q"
      },
      "execution_count": null,
      "outputs": []
    },
    {
      "cell_type": "code",
      "source": [
        "lasta = []"
      ],
      "metadata": {
        "id": "mJtnhWTF08W-"
      },
      "execution_count": null,
      "outputs": []
    },
    {
      "cell_type": "code",
      "source": [
        "lasta.append(1)"
      ],
      "metadata": {
        "id": "uo6aZgwO0-xj"
      },
      "execution_count": null,
      "outputs": []
    },
    {
      "cell_type": "code",
      "source": [
        "origem = 2\n",
        "destino = 2\n",
        "destino2 = 3\n",
        "peso = 3\n",
        "grafo = defaultdict(list)\n",
        "pesos = defaultdict(list)\n",
        "grafo[origem].append(destino)\n",
        "pesos[origem].append(peso)\n",
        "grafo[origem].append(destino2)\n",
        "pesos[origem].append(peso)\n",
        "\n",
        "if origem == destino:\n",
        "  print(\"É igual\")\n",
        "\n",
        "print(grafo)\n",
        "print(pesos)"
      ],
      "metadata": {
        "colab": {
          "base_uri": "https://localhost:8080/"
        },
        "id": "9y7ZmiIREG39",
        "outputId": "e65200f3-9be9-487d-af78-be6cda653d59"
      },
      "execution_count": null,
      "outputs": [
        {
          "output_type": "stream",
          "name": "stdout",
          "text": [
            "É igual\n",
            "defaultdict(<class 'list'>, {2: [2, 3]})\n",
            "defaultdict(<class 'list'>, {2: [3, 3]})\n"
          ]
        }
      ]
    },
    {
      "cell_type": "code",
      "execution_count": null,
      "metadata": {
        "id": "seX2UOGpBZcc"
      },
      "outputs": [],
      "source": [
        "class Grafo:\n",
        "  def __init__(self):\n",
        "    self.grafo = defaultdict(list)\n",
        "    self.lista = []\n",
        "\n",
        "  \"\"\"\n",
        "  Essa função auxilia na criação das arestas e os vértices, pois \n",
        "  informa qual é o véritce de origem e destino\n",
        "  \"\"\"\n",
        "  def adicionar_arestas_pesos(self, origem, destino, peso):\n",
        "    self.grafo[origem].append([destino,peso])\n",
        "\n",
        "  def verifica_eh_objetivo(self, no_raiz, objetivo) :\n",
        "    if no_raiz == objetivo:\n",
        "      print(no_raiz)\n",
        "      return True\n",
        "    return False\n",
        "\n",
        "  def busca_ambiciosa_simples(self, no_raiz, objetivo):\n",
        "    if no_raiz == objetivo:\n",
        "      print(no_raiz)\n",
        "      return\n",
        "\n",
        "    visitados = set()\n",
        "    visitados.add(no_raiz)\n",
        "    #print(no_raiz)    \n",
        "\n",
        "    for vertice in self.grafo[no_raiz]:\n",
        "      #print(\"Nó raiz \" + str(no_raiz) + \" <-- peso \" + str(vertice[1]) + \" --> \" + str(vertice[0]) )\n",
        "      #for peso in vertice:\n",
        "      \n",
        "      print(\"peso: \" + str(vertice[1]))\n",
        "      #if vertice not in visitados:\n",
        "      #  self.lista.append(vertice)\n",
        "      #  print(self.lista)"
      ]
    },
    {
      "cell_type": "code",
      "source": [
        "g = Grafo()\n",
        "g.adicionar_arestas_pesos(1,2, 3)\n",
        "g.adicionar_arestas_pesos(1,3, 1)\n",
        "g.adicionar_arestas_pesos(1,4, 2)\n",
        "g.adicionar_arestas_pesos(2,1, 3)\n",
        "g.adicionar_arestas_pesos(2,3, 2)\n",
        "g.adicionar_arestas_pesos(3,1,1)\n",
        "g.adicionar_arestas_pesos(3,2,2)\n",
        "g.adicionar_arestas_pesos(3,4, 5)\n",
        "g.adicionar_arestas_pesos(4,1, 2)\n",
        "g.adicionar_arestas_pesos(4,3, 5)\n",
        "\n",
        "print(\"Busca em Profundidade: \")\n",
        "g.busca_ambiciosa_simples(1, 4)"
      ],
      "metadata": {
        "colab": {
          "base_uri": "https://localhost:8080/"
        },
        "id": "kxo3CQpMBqoN",
        "outputId": "301d5bbe-324d-4579-b46a-f524b5b61446"
      },
      "execution_count": null,
      "outputs": [
        {
          "output_type": "stream",
          "name": "stdout",
          "text": [
            "Busca em Profundidade: \n",
            "peso: 3\n",
            "peso: 1\n",
            "peso: 2\n"
          ]
        }
      ]
    },
    {
      "cell_type": "code",
      "source": [
        "origem = 1\n",
        "destino = 2\n",
        "destino2 = 3\n",
        "peso_para_destino = 5\n",
        "peso_para_destino2 = 3\n",
        "\n",
        "grafo = defaultdict(list)\n",
        "pesos = defaultdict(list)\n",
        "grafo[origem].append([destino, peso_para_destino])\n",
        "grafo[origem].append([destino2, peso_para_destino2])\n",
        "\n",
        "if origem == destino:\n",
        "  print(\"É igual\")\n",
        "\n",
        "print(grafo[1][1][1])"
      ],
      "metadata": {
        "id": "7hLUvg6cCaj_"
      },
      "execution_count": null,
      "outputs": []
    },
    {
      "cell_type": "code",
      "source": [
        ""
      ],
      "metadata": {
        "id": "ZHUqMTwN1x8K"
      },
      "execution_count": null,
      "outputs": []
    }
  ]
}