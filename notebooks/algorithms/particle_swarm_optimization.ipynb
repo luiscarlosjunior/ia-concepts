{
 "cells": [
  {
   "cell_type": "code",
   "execution_count": null,
   "metadata": {
    "colab": {
     "base_uri": "https://localhost:8080/"
    },
    "id": "f9UthlubtYb5",
    "outputId": "2afb33a3-cd82-4dbd-a92f-f069e80fb115"
   },
   "outputs": [],
   "source": [
    "import random\n",
    "import numpy as np\n",
    "\n",
    "# Dados sobre a caminhada no espaço de busca\n",
    "W = 0.5\n",
    "c1 = 0.8\n",
    "c2 = 0.9\n",
    "\n",
    "\"\"\"\n",
    "# Retire os comentário para pedir ao usuário inserir os dados de entrada\n",
    "quantidade_iteracoes = int(input(\"Informe o número de iterações: \"))\n",
    "margem_erro = float(input(\"Informe o erro alvo: \"))\n",
    "quantidade_particulas = int(input(\"Informe o número de particulas: \"))\n",
    "\"\"\"\n",
    "\n",
    "quantidade_iteracoes = 20\n",
    "margem_erro = 0.005\n",
    "quantidade_particulas = 20\n",
    "\n",
    "class Particulas():\n",
    "    def __init__(self):\n",
    "        self.posicao = \\\n",
    "        np.array([(-1) ** (bool(random.getrandbits(1))) * \\\n",
    "                  random.random()*50, \\\n",
    "                  (-1)**(bool(random.getrandbits(1))) * \\\n",
    "                  random.random()*50])\n",
    "        self.melhor_posicao_particula = self.posicao\n",
    "        self.melhor_valor_particula = float('inf')\n",
    "        self.velocidade = np.array([0,0])\n",
    "\n",
    "    def __str__(self):\n",
    "        print(\"Eu estou em \", self.posicao, \" minha melhor particula é \", self.melhor_posicao_particula)\n",
    "\n",
    "    def move(self):\n",
    "        # Responsável por movimentar a partícula\n",
    "        self.posicao = self.posicao + self.velocidade\n",
    "\n",
    "class Espaco():\n",
    "    def __init__(self, target, margem_erro, quantidade_particulas):\n",
    "        self.target = target\n",
    "        self.margem_erro = margem_erro\n",
    "        self.quantidade_particulas = quantidade_particulas\n",
    "        self.particulas = []\n",
    "        self.melhor_valor_global = float('inf')\n",
    "        self.melhor_posicao_global = np.array([random.random()*50, random.random()*50])\n",
    "\n",
    "    def print_particulas(self):\n",
    "        for particula in self.particulas:\n",
    "            particula.__str__()\n",
    "\n",
    "    def fitness(self, particula):\n",
    "        return particula.posicao[0] ** 2 + particula.posicao[1] ** 2 + 1\n",
    "\n",
    "    def set_melhor_particula(self):\n",
    "        for particula in self.particulas:\n",
    "            fitness_cadidate = self.fitness(particula)\n",
    "            if(particula.melhor_valor_particula > fitness_cadidate):\n",
    "                particula.melhor_valor_particula = fitness_cadidate\n",
    "                particula.melhor_posicao_particula = particula.posicao\n",
    "\n",
    "    def set_melhor_global(self):\n",
    "        for particula in self.particulas:\n",
    "            best_fitness_cadidate = self.fitness(particula)\n",
    "            if(self.melhor_valor_global > best_fitness_cadidate):\n",
    "                self.melhor_valor_global = best_fitness_cadidate\n",
    "                self.melhor_posicao_global = particula.posicao\n",
    "\n",
    "    def move_particulas(self):\n",
    "        for particula in self.particulas:\n",
    "            global W\n",
    "            new_velocidade = \\\n",
    "            (W*particula.velocidade) + (c1*random.random()) * \\\n",
    "            (particula.melhor_posicao_particula - particula.posicao) + \\\n",
    "                            (random.random()*c2) * (self.melhor_posicao_global - particula.posicao)\n",
    "            particula.velocidade = new_velocidade\n",
    "            particula.move()\n",
    "\n",
    "search_space = Espaco(1, margem_erro, quantidade_particulas)\n",
    "particulas_vector = [Particulas() for _ in range(search_space.quantidade_particulas)]\n",
    "search_space.particulas = particulas_vector\n",
    "search_space.print_particulas()\n",
    "\n",
    "iteracao = 0\n",
    "while(iteracao < quantidade_iteracoes):\n",
    "    search_space.set_melhor_particula()\n",
    "    search_space.set_melhor_global()\n",
    "    if(abs(search_space.melhor_valor_global - search_space.target) <= search_space.margem_erro):\n",
    "        break\n",
    "    search_space.move_particulas()\n",
    "    iteracao += 1\n",
    "\n",
    "print(\"A melhor solução é: \", search_space.melhor_posicao_global,\n",
    "      \" em número de iterações: \", iteracao)"
   ]
  },
  {
   "cell_type": "markdown",
   "metadata": {
    "id": "gBya_u6NafT_"
   },
   "source": []
  },
  {
   "cell_type": "code",
   "execution_count": 2,
   "metadata": {
    "id": "zzSuJ4HQyHkt"
   },
   "outputs": [
    {
     "name": "stdout",
     "output_type": "stream",
     "text": [
      "^C\n",
      "Note: you may need to restart the kernel to use updated packages.\n"
     ]
    }
   ],
   "source": [
    "pip install psopy"
   ]
  },
  {
   "cell_type": "code",
   "execution_count": null,
   "metadata": {
    "colab": {
     "base_uri": "https://localhost:8080/"
    },
    "id": "_X8sFNXLYA4q",
    "outputId": "2ccbac09-d638-4a57-9744-b0e72f79e932"
   },
   "outputs": [
    {
     "data": {
      "text/plain": [
       "array([0.99999994, 0.99999972, 0.99999946, 0.99999892, 0.99999773])"
      ]
     },
     "execution_count": 2,
     "metadata": {},
     "output_type": "execute_result"
    }
   ],
   "source": [
    "import numpy as np\n",
    "from psopy import minimize\n",
    "from scipy.optimize import rosen\n",
    "x0 = np.random.uniform(0, 2, (1000, 5))\n",
    "res = minimize(rosen, x0, options={'stable_iter': 50})\n",
    "res.x"
   ]
  },
  {
   "cell_type": "code",
   "execution_count": null,
   "metadata": {
    "colab": {
     "base_uri": "https://localhost:8080/"
    },
    "id": "1gZWp_LUYWYy",
    "outputId": "912c8382-4c05-4b8c-a5b5-4bd93206fd1d"
   },
   "outputs": [
    {
     "data": {
      "text/plain": [
       "array([1.39993131, 1.69996613])"
      ]
     },
     "execution_count": 9,
     "metadata": {},
     "output_type": "execute_result"
    }
   ],
   "source": [
    "# The objective function.\n",
    "fun = lambda x: (x[0] - 1)**2 + (x[1] - 2.5)**2\n",
    "# The constraints.\n",
    "cons = ({'type': 'ineq', 'fun': lambda x:  x[0] - 2 * x[1] + 2},\n",
    "{'type': 'ineq', 'fun': lambda x: -x[0] - 2 * x[1] + 6},\n",
    "{'type': 'ineq', 'fun': lambda x: -x[0] + 2 * x[1] + 2},\n",
    "{'type': 'ineq', 'fun': lambda x: x[0]},\n",
    "{'type': 'ineq', 'fun': lambda x: x[1]})\n",
    "from psopy import init_feasible\n",
    "x0 = init_feasible(cons, low=0., high=2., shape=(1000, 2))\n",
    "res = minimize(fun, x0, constraints=cons, options={'g_rate': 1., 'l_rate': 1., 'max_velocidade': 4., 'stable_iter': 50})\n",
    "res.x"
   ]
  },
  {
   "cell_type": "code",
   "execution_count": null,
   "metadata": {
    "id": "h_VUyYlblOCD"
   },
   "outputs": [],
   "source": [
    "#https://machinelearningmastery.com/a-gentle-introduction-to-particula-swarm-optimization/"
   ]
  },
  {
   "cell_type": "markdown",
   "metadata": {
    "id": "HlslMbFfR1_e"
   },
   "source": [
    "# Exemplo completo PSO com animação das partículas"
   ]
  },
  {
   "cell_type": "code",
   "execution_count": null,
   "metadata": {
    "id": "8NDKw1K6vbiU"
   },
   "outputs": [],
   "source": [
    "import numpy as np\n",
    "import matplotlib.pyplot as plt\n",
    "from matplotlib import rc\n",
    "rc('animation', html='jshtml')\n",
    "from matplotlib.animation import FuncAnimation\n",
    "import matplotlib.animation as animation\n",
    "\n",
    "# Função que avalia se uma partícula é boa\n",
    "def f(x,y):\n",
    "    return (x-3.14)**2 + (y-2.72)**2 + np.sin(3*x+1.41) + np.sin(4*y-1.73)\n",
    "\n",
    "# Faz o cálculo do gráfico em 3D com [0,5]X[0,5]\n",
    "x, y = np.array(np.meshgrid(np.linspace(0,5,100), np.linspace(0,5,100)))\n",
    "z = f(x, y)\n",
    "\n",
    "# Encontra o menor valor entre todas as partículas\n",
    "# A função ravel transforma uma matriz em um vetor (resumidamente)\n",
    "x_min = x.ravel()[z.argmin()]\n",
    "y_min = y.ravel()[z.argmin()]\n",
    "\n",
    "# Parâmetros do espaço de busca do algoritmos\n",
    "c1 = c2 = 0.1\n",
    "w = 0.8\n",
    "\n",
    "# Cria as partículas\n",
    "quantidade_particulas = 20\n",
    "\"\"\"\n",
    "A função seed (semente), é uma função que garante que toda inicialização de\n",
    "valores aleatórios seja o mesmo. Isso garante que conseguiremos testar as mesmas\n",
    "velocidades e posições para diferentes tipos de parâmetros. Isso é usado para\n",
    "permitir realizar a comparação de testes.\n",
    "\"\"\"\n",
    "np.random.seed(100)\n",
    "\n",
    "# Define a posição e velocidade inicial de maneira aleatória\n",
    "X = np.random.rand(2, quantidade_particulas) * 5\n",
    "V = np.random.randn(2, quantidade_particulas) * 0.1\n",
    "\n",
    "# Inicializa os dados\n",
    "melhor_particula = X\n",
    "melhor_particula_obj = f(X[0], X[1])\n",
    "melhor_global = melhor_particula[:, melhor_particula_obj.argmin()]\n",
    "melhor_global_obj = melhor_particula_obj.min()\n",
    "\n",
    "def update():\n",
    "    \"Function to do one iteracao of particula swarm optimization\"\n",
    "    global V, X, melhor_particula, melhor_particula_obj, melhor_global, melhor_global_obj\n",
    "    # Update params\n",
    "    r1, r2 = np.random.rand(2)\n",
    "    V = w * V + c1*r1*(melhor_particula - X) + c2*r2*(melhor_global.reshape(-1,1)-X)\n",
    "    X = X + V\n",
    "    obj = f(X[0], X[1])\n",
    "    melhor_particula[:, (melhor_particula_obj >= obj)] = X[:, (melhor_particula_obj >= obj)]\n",
    "    melhor_particula_obj = np.array([melhor_particula_obj, obj]).min(axis=0)\n",
    "    melhor_global = melhor_particula[:, melhor_particula_obj.argmin()]\n",
    "    melhor_global_obj = melhor_particula_obj.min()\n",
    "\n",
    "# Configura o gráfico: Mapa de contorno\n",
    "fig, ax = plt.subplots(figsize=(8,6))\n",
    "fig.set_tight_layout(True)\n",
    "img = ax.imshow(z, extent=[0, 5, 0, 5], origin='lower', cmap='viridis', alpha=0.5)\n",
    "fig.colorbar(img, ax=ax)\n",
    "ax.plot([x_min], [y_min], marker='x', markersize=5, color=\"white\")\n",
    "contours = ax.contour(x, y, z, 10, colors='black', alpha=0.4)\n",
    "ax.clabel(contours, inline=True, fontsize=8, fmt=\"%.0f\")\n",
    "\n",
    "melhor_particula_plot = ax.scatter(melhor_particula[0], melhor_particula[1], marker='o', color='black', alpha=0.5)\n",
    "p_plot = ax.scatter(X[0], X[1], marker='o', color='blue', alpha=0.5)\n",
    "p_arrow = ax.quiver(X[0], X[1], V[0], V[1], color='blue', width=0.005, angles='xy', scale_units='xy', scale=1)\n",
    "melhor_global_plot = plt.scatter([melhor_global[0]], [melhor_global[1]], marker='*', s=100, color='black', alpha=0.4)\n",
    "\n",
    "ax.set_xlim([0,5])\n",
    "ax.set_ylim([0,5])\n",
    "\n",
    "# Define a animação\n",
    "def animate(i):\n",
    "    \"Passos do PSO: Atualização do algoritmo e exibindo no gráfico\"\n",
    "    title = 'Iteração {:02d}'.format(i)\n",
    "    # Atualizar os parâmetros\n",
    "    update()\n",
    "    # Define a figura\n",
    "    ax.set_title(title)\n",
    "    melhor_particula_plot.set_offsets(melhor_particula.T)\n",
    "    p_plot.set_offsets(X.T)\n",
    "    p_arrow.set_offsets(X.T)\n",
    "    p_arrow.set_UVC(V[0], V[1])\n",
    "    melhor_global_plot.set_offsets(melhor_global.reshape(1,-1))\n",
    "    return ax, melhor_particula_plot, p_plot, p_arrow, melhor_global_plot\n",
    "# Demora alguns segundo para gerar a animação, após isso, pressione no botão de executar\n",
    "anim = animation.FuncAnimation(fig, animate, frames=list(range(1,50)), interval=500, blit=False, repeat=True)\n",
    "anim"
   ]
  },
  {
   "cell_type": "code",
   "execution_count": null,
   "metadata": {
    "id": "5h6B1hk0z5MF"
   },
   "outputs": [],
   "source": [
    "print(\"A melhor solução do PSO foi f({})={}\".format(melhor_global, melhor_global_obj))\n",
    "print(\"O melhor global foi f({})={}\".format([x_min,y_min], f(x_min,y_min)))"
   ]
  },
  {
   "cell_type": "code",
   "execution_count": null,
   "metadata": {
    "id": "sLej_GNMV0ur"
   },
   "outputs": [],
   "source": []
  }
 ],
 "metadata": {
  "colab": {
   "provenance": []
  },
  "kernelspec": {
   "display_name": "base",
   "language": "python",
   "name": "python3"
  },
  "language_info": {
   "codemirror_mode": {
    "name": "ipython",
    "version": 3
   },
   "file_extension": ".py",
   "mimetype": "text/x-python",
   "name": "python",
   "nbconvert_exporter": "python",
   "pygments_lexer": "ipython3",
   "version": "3.12.4"
  }
 },
 "nbformat": 4,
 "nbformat_minor": 0
}
