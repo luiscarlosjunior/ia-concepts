{
  "nbformat": 4,
  "nbformat_minor": 0,
  "metadata": {
    "colab": {
      "provenance": []
    },
    "kernelspec": {
      "name": "python3",
      "display_name": "Python 3"
    },
    "language_info": {
      "name": "python"
    }
  },
  "cells": [
    {
      "cell_type": "markdown",
      "source": [
        "This algorithm analyses data from an antibody binding experiment.\n",
        "\n",
        "The input is a csv with three columns: index, optical_density, and `amino_acid_sequence'.\n",
        "\n",
        "The output is:\n",
        "\n",
        "a histogram of optical densities as a PNG file\n",
        "a csv with the following statistics: min, max and mean optical density for amino acid groups to an accuracy of 1 decimal place."
      ],
      "metadata": {
        "id": "zNHJB73AQbrY"
      }
    },
    {
      "cell_type": "code",
      "execution_count": 1,
      "metadata": {
        "colab": {
          "base_uri": "https://localhost:8080/",
          "height": 1000
        },
        "id": "1yyolhZeQZmN",
        "outputId": "b7c58a18-3436-4a9a-cc1b-b352715ea504"
      },
      "outputs": [
        {
          "name": "stdout",
          "output_type": "stream",
          "text": [
            "Enter the path to the input CSV file: /content/sample_data/input_data.csv\n",
            "Enter the full path to the output CSV file for statistics: /content/sample_data/output_data.csv\n",
            "Enter the full path to the output PNG file for the histogram: /content/sample_data/output_data.png\n",
            "Do you want to see the results on the screen? (yes/no): yes\n"
          ]
        },
        {
          "output_type": "display_data",
          "data": {
            "text/plain": [
              "<Figure size 640x480 with 1 Axes>"
            ],
            "image/png": "[encoded data removed]"
          },
          "metadata": {}
        },
        {
          "output_type": "stream",
          "name": "stdout",
          "text": [
            "\n",
            "Statistics:\n",
            "                     min  max  mean\n",
            "amino_acid_sequence                \n",
            "GFAFSSYD             0.9  1.2   1.0\n",
            "GFAFSSYW             0.8  0.8   0.8\n",
            "GFPFEMYD             0.9  0.9   0.9\n",
            "GFSFSSYD             0.7  0.7   0.7\n",
            "GFTFDDSV             0.4  0.4   0.4\n",
            "GFTFDDYA             0.3  1.5   1.0\n",
            "GFTFDDYE             0.8  0.8   0.8\n",
            "GFTFDDYG             0.9  0.9   0.9\n",
            "GFTFDTYD             1.3  1.3   1.3\n",
            "GFTFEEHF             1.2  1.2   1.2\n",
            "GFTFGSYD             0.1  0.1   0.1\n",
            "GFTFRNYA             1.2  1.4   1.3\n",
            "GFTFSDYP             0.8  1.3   1.1\n",
            "GFTFSNYA             0.4  1.3   0.8\n",
            "GFTFSNYG             1.4  1.4   1.4\n",
            "GFTFSSTA             1.0  1.0   1.0\n",
            "GFTFSSYA             0.9  1.3   1.1\n",
            "GFTFSSYD             1.0  1.0   1.0\n",
            "GFTFSSYF             0.8  1.3   1.0\n",
            "GFTFSSYG             1.2  1.4   1.3\n",
            "GFTFSSYW             0.1  1.5   1.0\n",
            "GFTFSSYY             0.5  0.5   0.5\n",
            "GFTFYDYH             0.9  1.1   1.0\n",
            "GFTLSSYW             0.1  1.3   0.5\n",
            "GFTVSGYA             0.3  0.3   0.3\n",
            "GFXFVRYD             0.8  0.8   0.8\n",
            "GGSITTKYYF           0.1  0.1   0.1\n",
            "GGSITTSYYA           0.9  0.9   0.9\n",
            "GHTFTYYR             0.8  0.8   0.8\n",
            "GLTFDTAA             0.9  0.9   0.9\n",
            "GNIFGFNA             1.1  1.1   1.1\n",
            "GRIFSDYH             0.8  0.8   0.8\n",
            "GRTFSSYV             1.2  1.4   1.3\n",
            "GRTFSTAA             0.1  1.3   0.9\n",
            "GSIVSIVF             1.2  1.2   1.2\n",
            "GSTLRIAS             1.2  1.2   1.2\n",
            "GSTSSIKS             0.5  0.5   0.5\n",
            "GTIFRINA             0.6  0.6   0.6\n",
            "\n",
            "\n",
            "\n",
            "Statistics saved to: /content/sample_data/output_data.csv\n",
            "Histogram plot saved to: /content/sample_data/output_data.png\n"
          ]
        }
      ],
      "source": [
        "import pandas as pd\n",
        "import matplotlib.pyplot as plt\n",
        "import os\n",
        "\n",
        "class AntibodyAnalyzer:\n",
        "    def __init__(self, input_file, output_csv, output_png, show_results=True):\n",
        "        self.input_file = input_file\n",
        "        self.output_csv = output_csv\n",
        "        self.output_png = output_png\n",
        "        self.show_results = show_results\n",
        "\n",
        "    def get_valid_filepath(self, file_type):\n",
        "        while True:\n",
        "            file_path = input(f\"Enter the path to the {file_type} file: \")\n",
        "\n",
        "            # Check if the directory of the file path is valid\n",
        "            directory = os.path.dirname(file_path)\n",
        "            if os.path.isdir(directory):\n",
        "                return file_path\n",
        "            else:\n",
        "                print(f\"Invalid {file_type} file path. Please enter a valid path.\")\n",
        "\n",
        "    def analyze_data(self):\n",
        "        try:\n",
        "            # Read CSV file into a pandas DataFrame\n",
        "            df = pd.read_csv(self.input_file)\n",
        "\n",
        "            # Create a histogram of optical densities\n",
        "            plt.hist(df['optical_density'], bins=10, edgecolor='black')\n",
        "            plt.title('Histogram of Optical Densities')\n",
        "            plt.xlabel('Optical Density')\n",
        "            plt.ylabel('Frequency')\n",
        "            if self.show_results:\n",
        "                plt.show()\n",
        "            plt.close()\n",
        "\n",
        "            # Calculate statistics for amino acid groups\n",
        "            amino_acid_groups = df.groupby('amino_acid_sequence')['optical_density']\n",
        "\n",
        "            # Create a DataFrame with statistics\n",
        "            stats_df = amino_acid_groups.agg(['min', 'max', 'mean']).round(1)\n",
        "\n",
        "            # Print statistics to the screen with space if requested\n",
        "            if self.show_results:\n",
        "                print(\"\\nStatistics:\")\n",
        "                print(stats_df)\n",
        "                print(\"\\n\" * 2)  # Add two empty lines\n",
        "\n",
        "            # Save the statistics to a CSV file with full path\n",
        "            stats_df.to_csv(self.output_csv, index=True)\n",
        "            print(f\"Statistics saved to: {self.output_csv}\")\n",
        "\n",
        "            # Display a message about saving the histogram plot\n",
        "            print(f\"Histogram plot saved to: {self.output_png}\")\n",
        "\n",
        "        except Exception as e:\n",
        "            print(f\"Error occurred: {str(e)}\")\n",
        "\n",
        "if __name__ == \"__main__\":\n",
        "    # Get input from the user\n",
        "    input_file = input(\"Enter the path to the input CSV file: \")\n",
        "    output_csv = input(\"Enter the full path to the output CSV file for statistics: \")\n",
        "    output_png = input(\"Enter the full path to the output PNG file for the histogram: \")\n",
        "\n",
        "    # Ask the user if they want to see the results on the screen\n",
        "    show_results = input(\"Do you want to see the results on the screen? (yes/no): \").lower() == 'yes'\n",
        "\n",
        "    # Create an instance of the AntibodyAnalyzer class\n",
        "    analyzer = AntibodyAnalyzer(input_file, output_csv, output_png, show_results)\n",
        "\n",
        "    # Call the analyze_data method\n",
        "    analyzer.analyze_data()"
      ]
    }
  ]
}