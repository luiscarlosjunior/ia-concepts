{
  "nbformat": 4,
  "nbformat_minor": 0,
  "metadata": {
    "colab": {
      "name": "Probabilidade-básica T17.ipynb",
      "provenance": []
    },
    "kernelspec": {
      "name": "python3",
      "display_name": "Python 3"
    },
    "language_info": {
      "name": "python"
    }
  },
  "cells": [
    {
      "cell_type": "code",
      "metadata": {
        "id": "dL6_PxejLcbU"
      },
      "source": [
        "import random"
      ],
      "execution_count": 1,
      "outputs": []
    },
    {
      "cell_type": "code",
      "source": [
        "def jogar_dados_seis_lados(quantidade_jogadas, numero):\n",
        "  quantidade_cara = 0\n",
        "  for i in range(quantidade_jogadas):\n",
        "    if random.randint(0,6) == numero:\n",
        "      quantidade_cara = quantidade_cara + 1\n",
        "\n",
        "  # quantidade_coroa = quantidade_jogadas - quantidade_cara\n",
        "  frequencia = quantidade_cara / quantidade_jogadas\n",
        "  return frequencia"
      ],
      "metadata": {
        "id": "KQbmJ0JfWJOC"
      },
      "execution_count": 2,
      "outputs": []
    },
    {
      "cell_type": "code",
      "source": [
        "jogadas = 100\n",
        "resultado_frequencia = jogar_dados_seis_lados(jogadas, 2) * 100\n",
        "print(\"De \" + str(jogadas) + \" jogadas\")\n",
        "print(\"O resultado foi de \" + str(resultado_frequencia) + \"% de \" + str(2) )\n",
        "# print(\"E de \" + str(100 - resultado_frequencia) + \"% de coroa\")"
      ],
      "metadata": {
        "colab": {
          "base_uri": "https://localhost:8080/"
        },
        "id": "BnzLxgagWYnZ",
        "outputId": "ebf78be9-e9e2-48c1-b96e-cae7f2511a34"
      },
      "execution_count": 11,
      "outputs": [
        {
          "output_type": "stream",
          "name": "stdout",
          "text": [
            "De 6 jogadas\n",
            "O resultado foi de 16.666666666666664% de 2\n"
          ]
        }
      ]
    },
    {
      "cell_type": "code",
      "metadata": {
        "id": "pNv6ij14Lhr6"
      },
      "source": [
        "def jogar_moeda(quantidade_jogadas):\n",
        "  quantidade_cara = 0\n",
        "  for i in range(quantidade_jogadas):\n",
        "    if random.randint(0,1) == 1:\n",
        "      quantidade_cara = quantidade_cara + 1\n",
        "\n",
        "  # quantidade_coroa = quantidade_jogadas - quantidade_cara\n",
        "  frequencia = quantidade_cara / quantidade_jogadas\n",
        "  return frequencia"
      ],
      "execution_count": null,
      "outputs": []
    },
    {
      "cell_type": "code",
      "metadata": {
        "colab": {
          "base_uri": "https://localhost:8080/"
        },
        "id": "9Nl3JUTHL6Ml",
        "outputId": "19994dd2-2a84-4873-ccbf-c648efee8be9"
      },
      "source": [
        "jogadas = 10000000\n",
        "resultado_frequencia = jogar_moeda(jogadas) * 100\n",
        "print(\"De \" + str(jogadas) + \" jogadas\")\n",
        "print(\"O resultado foi de \" + str(resultado_frequencia) + \"% de cara\")\n",
        "print(\"E de \" + str(100 - resultado_frequencia) + \"% de coroa\")"
      ],
      "execution_count": null,
      "outputs": [
        {
          "output_type": "stream",
          "name": "stdout",
          "text": [
            "De 10000000 jogadas\n",
            "O resultado foi de 50.000350000000005% de cara\n",
            "E de 49.999649999999995% de coroa\n"
          ]
        }
      ]
    },
    {
      "cell_type": "code",
      "metadata": {
        "id": "jncpRM4kcfi3"
      },
      "source": [
        ""
      ],
      "execution_count": null,
      "outputs": []
    }
  ]
}