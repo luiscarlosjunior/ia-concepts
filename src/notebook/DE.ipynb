{
 "cells": [
  {
   "cell_type": "code",
   "execution_count": null,
   "metadata": {},
   "outputs": [],
   "source": [
    "!pip install numpy"
   ]
  },
  {
   "cell_type": "code",
   "execution_count": 3,
   "metadata": {},
   "outputs": [
    {
     "name": "stdout",
     "output_type": "stream",
     "text": [
      "Melhor solução: [-0.10067023  0.98493327  0.96647911  1.1000869  -0.10866736]\n",
      "Melhor valor da função objetivo: 9.49152682417202\n"
     ]
    }
   ],
   "source": [
    "import numpy as np\n",
    "\n",
    "# Parâmetros do DE\n",
    "NP = 20        # Tamanho da população\n",
    "D = 5          # Dimensão do problema\n",
    "F = 0.8        # Fator de escala\n",
    "CR = 0.9       # Taxa de recombinação\n",
    "Gmax = 100     # Número de gerações\n",
    "\n",
    "# Limites do problema\n",
    "bounds = [-5.12, 5.12]\n",
    "\n",
    "# Função objetivo: Rastrigin\n",
    "def rastrigin(x):\n",
    "    return 10 * len(x) + sum([xi**2 - 10 * np.cos(2 * np.pi * xi) for xi in x])\n",
    "\n",
    "# Inicialização da população\n",
    "pop = np.random.uniform(bounds[0], bounds[1], (NP, D))\n",
    "fitness = np.array([rastrigin(ind) for ind in pop])\n",
    "\n",
    "# Evolução\n",
    "for gen in range(Gmax):\n",
    "    for i in range(NP):\n",
    "        # Seleção de vetores\n",
    "        idxs = list(range(NP))\n",
    "        idxs.remove(i)\n",
    "        a, b, c = pop[np.random.choice(idxs, 3, replace=False)]\n",
    "        \n",
    "        # Mutação\n",
    "        mutant = np.clip(a + F * (b - c), bounds[0], bounds[1])\n",
    "        \n",
    "        # Recombinação\n",
    "        trial = np.copy(pop[i])\n",
    "        for j in range(D):\n",
    "            if np.random.rand() < CR or j == np.random.randint(D):\n",
    "                trial[j] = mutant[j]\n",
    "        \n",
    "        # Seleção\n",
    "        trial_fitness = rastrigin(trial)\n",
    "        if trial_fitness < fitness[i]:\n",
    "            pop[i] = trial\n",
    "            fitness[i] = trial_fitness\n",
    "\n",
    "# Melhor solução\n",
    "best_idx = np.argmin(fitness)\n",
    "print(\"Melhor solução:\", pop[best_idx])\n",
    "print(\"Melhor valor da função objetivo:\", fitness[best_idx])\n"
   ]
  }
 ],
 "metadata": {
  "kernelspec": {
   "display_name": "Python 3",
   "language": "python",
   "name": "python3"
  },
  "language_info": {
   "codemirror_mode": {
    "name": "ipython",
    "version": 3
   },
   "file_extension": ".py",
   "mimetype": "text/x-python",
   "name": "python",
   "nbconvert_exporter": "python",
   "pygments_lexer": "ipython3",
   "version": "3.12.6"
  }
 },
 "nbformat": 4,
 "nbformat_minor": 2
}
