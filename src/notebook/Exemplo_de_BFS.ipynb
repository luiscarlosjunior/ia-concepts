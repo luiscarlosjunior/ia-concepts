{
  "nbformat": 4,
  "nbformat_minor": 0,
  "metadata": {
    "colab": {
      "name": "Exemplo de BFS.ipynb",
      "provenance": []
    },
    "kernelspec": {
      "name": "python3",
      "display_name": "Python 3"
    },
    "language_info": {
      "name": "python"
    }
  },
  "cells": [
    {
      "cell_type": "code",
      "execution_count": 1,
      "metadata": {
        "id": "tqRyROR4dMWQ"
      },
      "outputs": [],
      "source": [
        "# grafo\n",
        "from collections import defaultdict"
      ]
    },
    {
      "cell_type": "code",
      "source": [
        "grafo = defaultdict(list)"
      ],
      "metadata": {
        "id": "Jxn3kChveFBi"
      },
      "execution_count": 2,
      "outputs": []
    },
    {
      "cell_type": "code",
      "source": [
        "grafo"
      ],
      "metadata": {
        "colab": {
          "base_uri": "https://localhost:8080/"
        },
        "id": "jeS4KeO4eOol",
        "outputId": "00d498bf-8446-4bbb-b753-cca5182d20ab"
      },
      "execution_count": 3,
      "outputs": [
        {
          "output_type": "execute_result",
          "data": {
            "text/plain": [
              "defaultdict(list, {})"
            ]
          },
          "metadata": {},
          "execution_count": 3
        }
      ]
    },
    {
      "cell_type": "code",
      "source": [
        "grafo[1].append(2)\n",
        "grafo[2].append(1)\n",
        "grafo[1].append(3)\n",
        "grafo[3].append(1)\n",
        "grafo[1].append(4)\n",
        "grafo[4].append(1)\n",
        "grafo[2].append(3)\n",
        "grafo[3].append(2)\n",
        "grafo[4].append(3)\n",
        "grafo[3].append(4)"
      ],
      "metadata": {
        "id": "Y_z6w_RreQqV"
      },
      "execution_count": 4,
      "outputs": []
    },
    {
      "cell_type": "code",
      "source": [
        "grafo"
      ],
      "metadata": {
        "colab": {
          "base_uri": "https://localhost:8080/"
        },
        "id": "v4FrYImjfMoG",
        "outputId": "806a33bf-c51a-4ee2-cb92-dd7736552829"
      },
      "execution_count": 5,
      "outputs": [
        {
          "output_type": "execute_result",
          "data": {
            "text/plain": [
              "defaultdict(list, {1: [2, 3, 4], 2: [1, 3], 3: [1, 2, 4], 4: [1, 3]})"
            ]
          },
          "metadata": {},
          "execution_count": 5
        }
      ]
    },
    {
      "cell_type": "code",
      "source": [
        "visitado = [False] * (max(grafo) + 1)"
      ],
      "metadata": {
        "id": "m0XFkkg5fOHp"
      },
      "execution_count": 6,
      "outputs": []
    },
    {
      "cell_type": "code",
      "source": [
        "visitado"
      ],
      "metadata": {
        "colab": {
          "base_uri": "https://localhost:8080/"
        },
        "id": "j7Dg_i_wf20e",
        "outputId": "8918d1cf-3432-4908-fe87-5895efc6993a"
      },
      "execution_count": 7,
      "outputs": [
        {
          "output_type": "execute_result",
          "data": {
            "text/plain": [
              "[False, False, False, False, False]"
            ]
          },
          "metadata": {},
          "execution_count": 7
        }
      ]
    },
    {
      "cell_type": "code",
      "source": [
        ""
      ],
      "metadata": {
        "id": "0Tr2hL_kf3n0"
      },
      "execution_count": null,
      "outputs": []
    }
  ]
}