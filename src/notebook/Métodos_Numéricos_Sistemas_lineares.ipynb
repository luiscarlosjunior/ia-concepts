{
  "nbformat": 4,
  "nbformat_minor": 0,
  "metadata": {
    "colab": {
      "provenance": []
    },
    "kernelspec": {
      "name": "python3",
      "display_name": "Python 3"
    },
    "language_info": {
      "name": "python"
    }
  },
  "cells": [
    {
      "cell_type": "markdown",
      "source": [
        "#Eliminação de gauss (Algoritmo)"
      ],
      "metadata": {
        "id": "BNPeUoTEIR_c"
      }
    },
    {
      "cell_type": "markdown",
      "source": [
        "A **eliminação de Gauss** (método de eliminação), é um algoritmo utilizado para resolver sistemas lineares. O algoritmo permite transformar um sistema de equações lineares em uma forma escalonada, simplificando a resolução do sistema.\n",
        "\n",
        "O processo de eliminação de Gauss **consiste em aplicar uma série de operações elementares nas equações do sistema com o objetivo de eliminar uma variável em cada etapa, até que se obtenha um sistema triangular, no qual todas as variáveis são determinadas sequencialmente**. As operações elementares envolvem multiplicar uma equação por um escalar não nulo, somar ou subtrair uma equação por outra, e trocar a posição de duas equações.\n",
        "\n",
        "O método de eliminação de Gauss é **eficiente para sistemas lineares de pequeno a médio porte**. Ele pode ser implementado manualmente ou utilizando software de computação numérica.\n",
        "\n",
        "A eliminação de Gauss tem algumas vantagens, como a simplicidade de implementação e a capacidade de resolver sistemas lineares com eficiência. No entanto, também possui algumas limitações, como a sensibilidade a erros de arredondamento em cálculos numéricos e a possibilidade de divisão por zero em determinadas situações.\n",
        "\n",
        "Em resumo, a eliminação de Gauss é um método amplamente utilizado para resolver sistemas lineares, oferecendo uma abordagem sistemática para simplificar as equações e encontrar a solução. É uma ferramenta fundamental em matemática, física, engenharia e outras áreas que lidam com sistemas de equações lineares."
      ],
      "metadata": {
        "id": "u4QNNlM05yzx"
      }
    },
    {
      "cell_type": "markdown",
      "source": [
        "##Algoritmo de Eliminação de Gauss"
      ],
      "metadata": {
        "id": "Y1q2xakmJQyy"
      }
    },
    {
      "cell_type": "code",
      "source": [
        "# Função responsável por resolver sistemas lineares quadraticos\n",
        "# A é a matriz; b é o vetor com os valores a serem igualados\n",
        "def eliminacao_gauss(A, b):\n",
        "    n = len(A) # Pega o tamanho da matriz\n",
        "    \n",
        "    # Etapa de eliminação\n",
        "    for indice in range(n):\n",
        "        if A[indice][indice] == 0:\n",
        "            raise ValueError(\"Divisão por zero.\")\n",
        "        \n",
        "        for j in range(indice+1, n):\n",
        "            factor = A[j][indice] / A[indice][indice]\n",
        "            for k in range(indice, n):\n",
        "                A[j][k] -= factor * A[indice][k]\n",
        "            b[j] -= factor * b[indice]\n",
        "    \n",
        "    # Etapa de retrosubstituição\n",
        "    x = [0] * n\n",
        "    x[n-1] = b[n-1] / A[n-1][n-1]\n",
        "    \n",
        "    for i in range(n-2, -1, -1):\n",
        "        soma_valores = 0\n",
        "        for j in range(i+1, n):\n",
        "            soma_valores += A[i][j] * x[j]\n",
        "        x[i] = (b[i] - soma_valores) / A[i][i]\n",
        "    # Retorna o resultado em uma tupla\n",
        "    return x"
      ],
      "metadata": {
        "id": "riM4nke81DY9"
      },
      "execution_count": null,
      "outputs": []
    },
    {
      "cell_type": "code",
      "source": [
        "from numpy import array\n",
        "\n",
        "A = array([[2,1,-1], \n",
        "            [1,-1,2], \n",
        "            [3,0,0]], float)\n",
        "b = array([10,1,6], float)\n",
        "\n",
        "print(eliminacao_gauss(A, b))"
      ],
      "metadata": {
        "colab": {
          "base_uri": "https://localhost:8080/"
        },
        "id": "sJTMbSoM58hv",
        "outputId": "8d3ea753-4197-4311-948d-17797d433f73"
      },
      "execution_count": null,
      "outputs": [
        {
          "output_type": "stream",
          "name": "stdout",
          "text": [
            "[2.0, 11.0, 5.0]\n"
          ]
        }
      ]
    },
    {
      "cell_type": "markdown",
      "source": [
        "##Algoritmo Eliminação de Gauss com numpy"
      ],
      "metadata": {
        "id": "4x5WkdacJh3y"
      }
    },
    {
      "cell_type": "code",
      "source": [
        "import numpy as np\n",
        "\n",
        "def eliminacao_gauss_numpy(A, b):\n",
        "    n = len(A)\n",
        "    \n",
        "    # Etapa de eliminação\n",
        "    for i in range(n):\n",
        "        if A[i][i] == 0:\n",
        "            raise ValueError(\"Divisão por zero. Não é possível aplicar o método de Gauss.\")\n",
        "        \n",
        "        for j in range(i+1, n):\n",
        "            factor = A[j][i] / A[i][i]\n",
        "            A[j] -= factor * A[i]\n",
        "            b[j] -= factor * b[i]\n",
        "    \n",
        "    # Etapa de retrosubstituição\n",
        "    x = np.zeros(n)\n",
        "    x[n-1] = b[n-1] / A[n-1][n-1]\n",
        "    \n",
        "    for i in range(n-2, -1, -1):\n",
        "        sum_val = np.dot(A[i, i+1:], x[i+1:])\n",
        "        x[i] = (b[i] - sum_val) / A[i][i]\n",
        "    \n",
        "    return x"
      ],
      "metadata": {
        "id": "dcnAalLU6BaW"
      },
      "execution_count": null,
      "outputs": []
    },
    {
      "cell_type": "code",
      "source": [
        "from numpy import array\n",
        "\n",
        "A = array([[2,1,-1], \n",
        "            [1,-1,2], \n",
        "            [3,0,0]], float)\n",
        "b = array([10,1,6], float)\n",
        "\n",
        "print(eliminacao_gauss_numpy(A, b))"
      ],
      "metadata": {
        "colab": {
          "base_uri": "https://localhost:8080/"
        },
        "id": "iXPRjSWKJ0GR",
        "outputId": "459f864b-b173-43e8-cb1b-52ea5ed5980f"
      },
      "execution_count": null,
      "outputs": [
        {
          "output_type": "stream",
          "name": "stdout",
          "text": [
            "[ 2. 11.  5.]\n"
          ]
        }
      ]
    },
    {
      "cell_type": "markdown",
      "source": [
        "##Algoritmo de Gauss (scipy)"
      ],
      "metadata": {
        "id": "eAUMtr3OKGEy"
      }
    },
    {
      "cell_type": "code",
      "execution_count": null,
      "metadata": {
        "colab": {
          "base_uri": "https://localhost:8080/"
        },
        "id": "3AodPdnv1By2",
        "outputId": "1e8ac08d-b509-428d-9df2-45fd3606cfeb"
      },
      "outputs": [
        {
          "output_type": "stream",
          "name": "stdout",
          "text": [
            "[ 0.93030559  0.24514271 -0.10523137  0.09205982  0.55859667]\n"
          ]
        }
      ],
      "source": [
        "from numpy import array\n",
        "from scipy.linalg import solve, inv \n",
        "import random as rd\n",
        "\n",
        "equacao_1 = [5, 2, rd.randint(0,9), rd.randint(15,30), rd.randint(0,15)]\n",
        "equacao_2 = [0, 0, rd.randint(0,9), rd.randint(15,30), rd.randint(0,15)]\n",
        "equacao_3 = [1, 3, rd.randint(0,9), rd.randint(15,30), rd.randint(0,15)]\n",
        "equacao_4 = [5, 3, rd.randint(-10,100), rd.randint(15,30), rd.randint(0,15)]\n",
        "equacao_5 = [8, 0, rd.randint(-10,9), rd.randint(4,150), rd.randint(0,15)]\n",
        "\n",
        "a = array([equacao_1, equacao_2, equacao_3, equacao_4, equacao_5], float)\n",
        "b = array([rd.randint(0, 10),\n",
        "           rd.randint(0, 10),\n",
        "           rd.randint(0, 10), \n",
        "           rd.randint(-2, 15),\n",
        "           rd.randint(5, 25)], float)\n",
        "\n",
        "x = solve(a, b)\n",
        "print(x)"
      ]
    },
    {
      "cell_type": "code",
      "source": [
        "from numpy import array\n",
        "from scipy.linalg import solve, inv \n",
        "\n",
        "A = array([[3, 2, 2], \n",
        "           [5, 1, 1],\n",
        "           [3, 5, 2]], float)\n",
        "b = array([9.865, 3.1415, 5.5], float)\n",
        "\n",
        "x = solve(A, b)\n",
        "print(x)"
      ],
      "metadata": {
        "colab": {
          "base_uri": "https://localhost:8080/"
        },
        "id": "jAHG9VlVJ96J",
        "outputId": "d82e7dd9-9936-4f91-f0d0-3eea6dd2330c"
      },
      "execution_count": null,
      "outputs": [
        {
          "output_type": "stream",
          "name": "stdout",
          "text": [
            "[-0.51171429 -1.455       7.15507143]\n"
          ]
        }
      ]
    },
    {
      "cell_type": "code",
      "source": [],
      "metadata": {
        "id": "98ORors1DJYZ"
      },
      "execution_count": null,
      "outputs": []
    },
    {
      "cell_type": "markdown",
      "source": [
        "##Algoritmo de Jacobi"
      ],
      "metadata": {
        "id": "gmwg_wuLKUrw"
      }
    },
    {
      "cell_type": "code",
      "source": [
        "import numpy as np\n",
        "\n",
        "def jacobi(A, b, x0, max_iterations=100, tolerance=1e-6):\n",
        "    n = len(A)\n",
        "    x = x0.copy()\n",
        "    x_new = np.zeros_like(x)\n",
        "    iterations = 0\n",
        "    error = np.inf\n",
        "    \n",
        "    while error > tolerance and iterations < max_iterations:\n",
        "        for i in range(n):\n",
        "            x_new[i] = (b[i] - np.dot(A[i, :i], x[:i]) - np.dot(A[i, i+1:], x[i+1:])) / A[i, i]\n",
        "        \n",
        "        error = np.linalg.norm(x_new - x)\n",
        "        x = x_new.copy()\n",
        "        iterations += 1\n",
        "    \n",
        "    return x\n"
      ],
      "metadata": {
        "id": "wfJVwRZi7jfe"
      },
      "execution_count": null,
      "outputs": []
    },
    {
      "cell_type": "code",
      "source": [
        "import numpy as np\n",
        "\n",
        "def jacobi(A, B, x0, max_iter=100, tol=1e-6):\n",
        "    n = len(A)\n",
        "    x = np.copy(x0)\n",
        "    x_prev = np.copy(x0)\n",
        "    \n",
        "    for k in range(max_iter):\n",
        "        for i in range(n):\n",
        "            soma = 0\n",
        "            for j in range(n):\n",
        "                if j != i:\n",
        "                    soma += A[i][j] * x_prev[j]            \n",
        "            x[i] = (B[i] - soma) / A[i][i]\n",
        "        \n",
        "        if np.linalg.norm(x - x_prev) < tol:\n",
        "            break\n",
        "        \n",
        "        x_prev = np.copy(x)    \n",
        "    return x\n",
        "\n",
        "# Exemplo de sistema linear\n",
        "A = np.array([[2, 1, -1],[-3, -4, 2],[1, 2, 5]])\n",
        "B = np.array([8, -5, 9])\n",
        "x0 = np.array([0, 0, 0])\n",
        "\n",
        "# Resolvendo o sistema usando o método de Jacobi\n",
        "x = jacobi(A, B, x0)\n",
        "print(\"Solução:\", x)"
      ],
      "metadata": {
        "id": "7IuhfHDFh6AI"
      },
      "execution_count": 10,
      "outputs": []
    },
    {
      "cell_type": "code",
      "source": [
        "\n"
      ],
      "metadata": {
        "colab": {
          "base_uri": "https://localhost:8080/"
        },
        "id": "5aljvoIQh61D",
        "outputId": "60aaa558-8ea6-4807-e548-6cb9eafbfbe4"
      },
      "execution_count": 12,
      "outputs": [
        {
          "output_type": "stream",
          "name": "stdout",
          "text": [
            "Solução: [ 5 -2  1]\n"
          ]
        }
      ]
    },
    {
      "cell_type": "code",
      "source": [
        "# Exemplo de sistema linear\n",
        "A = np.array([[2, 1, -1],\n",
        "              [-3, -4, 2],\n",
        "              [1, 2, 5]])\n",
        "B = np.array([8, -5, 9])\n",
        "x0 = np.array([0, 0, 0])\n",
        "\n",
        "# Resolvendo o sistema usando o método de Jacobi\n",
        "x = jacobi(A, B, x0)\n",
        "\n",
        "print(\"Solução:\")\n",
        "print(x)"
      ],
      "metadata": {
        "id": "UgLde-FsiU9P"
      },
      "execution_count": null,
      "outputs": []
    },
    {
      "cell_type": "markdown",
      "source": [
        "###Implementação Método Jacobi sem numpy"
      ],
      "metadata": {
        "id": "N7r5sVa7ibiR"
      }
    },
    {
      "cell_type": "code",
      "source": [
        "def jacobi(A, b, x0, max_iterations=100, tolerance=1e-6):\n",
        "    n = len(A)\n",
        "    x = x0.copy()\n",
        "    \n",
        "    for k in range(max_iterations):\n",
        "        x_prev = x.copy()\n",
        "        \n",
        "        for i in range(n):\n",
        "            sigma = 0\n",
        "            for j in range(n):\n",
        "                if j != i:\n",
        "                    sigma += A[i][j] * x_prev[j]\n",
        "            \n",
        "            x[i] = (b[i] - sigma) / A[i][i]\n",
        "        \n",
        "        norm_diff = max(abs(x[i] - x_prev[i]) for i in range(n))\n",
        "        if norm_diff < tolerance:\n",
        "            break\n",
        "    \n",
        "    return x\n",
        "\n",
        "# Exemplo de uso\n",
        "A = [[2, 1, -1],\n",
        "     [-3, -4, 2],\n",
        "     [1, 2, 5]]\n",
        "\n",
        "b = [8, -5, 9]\n",
        "x0 = [0, 0, 0]\n",
        "\n",
        "solution = jacobi(A, b, x0)\n",
        "print(\"Solução:\", solution)\n"
      ],
      "metadata": {
        "colab": {
          "base_uri": "https://localhost:8080/"
        },
        "id": "pSstwKNyibI8",
        "outputId": "a2b27c8d-092a-4349-d5b9-96adb75246a2"
      },
      "execution_count": 4,
      "outputs": [
        {
          "output_type": "stream",
          "name": "stdout",
          "text": [
            "Solução: [6.034481245344585, -2.482757203874656, 1.5862064540355194]\n"
          ]
        }
      ]
    },
    {
      "cell_type": "code",
      "source": [
        "def jacobi(A, b, valor_inicial, max_iter=100, tolerancia=1e-6):\n",
        "    n = len(A)\n",
        "    x = valor_inicial.copy()\n",
        "    x_prev = valor_inicial.copy()\n",
        "    \n",
        "    for _ in range(max_iter):\n",
        "        for i in range(n):\n",
        "            sigma = 0\n",
        "            for j in range(n):\n",
        "                if j != i:\n",
        "                    sigma += A[i][j] * x_prev[j]\n",
        "            x[i] = (b[i] - sigma) / A[i][i]\n",
        "        \n",
        "        #Verifica se o resultado é aceitavel pelo valor passado na \n",
        "        # tolerância\n",
        "        diferenca = max(abs(x[i] - x_prev[i]) for i in range(n))\n",
        "        if diferenca < tolerancia:\n",
        "            break\n",
        "\n",
        "        x_prev = x.copy()\n",
        "    return x\n",
        "\n",
        "# Exemplo de uso\n",
        "A = [[2, -1, 1],[3, 4, -2],[1, 2, 5]]\n",
        "b = [9, -5, 3]\n",
        "valor_inicial = [0, 0, 0]\n",
        "\n",
        "resultado = jacobi(A, b, valor_inicial)\n",
        "print(\"Solução:\", resultado)\n"
      ],
      "metadata": {
        "colab": {
          "base_uri": "https://localhost:8080/"
        },
        "id": "XvqxZFyWifha",
        "outputId": "d980114a-b268-4236-ce15-e3c6042c8bdf"
      },
      "execution_count": 9,
      "outputs": [
        {
          "output_type": "stream",
          "name": "stdout",
          "text": [
            "Solução: [2.6119408730155445, -2.6417907050970193, 1.1343279022263517]\n"
          ]
        }
      ]
    },
    {
      "cell_type": "code",
      "source": [],
      "metadata": {
        "id": "7u3g54UWjaLW"
      },
      "execution_count": null,
      "outputs": []
    }
  ]
}